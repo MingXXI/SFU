{
 "cells": [
  {
   "cell_type": "code",
   "execution_count": 1,
   "metadata": {},
   "outputs": [],
   "source": [
    "%load_ext sql"
   ]
  },
  {
   "cell_type": "code",
   "execution_count": 2,
   "metadata": {},
   "outputs": [
    {
     "data": {
      "text/plain": [
       "'Connected: @36.db'"
      ]
     },
     "execution_count": 2,
     "metadata": {},
     "output_type": "execute_result"
    }
   ],
   "source": [
    "%sql sqlite:///36.db"
   ]
  },
  {
   "cell_type": "code",
   "execution_count": 10,
   "metadata": {},
   "outputs": [
    {
     "name": "stdout",
     "output_type": "stream",
     "text": [
      " * sqlite:///36.db\n",
      "Done.\n"
     ]
    },
    {
     "data": {
      "text/html": [
       "<table>\n",
       "    <tr>\n",
       "        <th>name</th>\n",
       "        <th>releaseDate</th>\n",
       "        <th>price</th>\n",
       "        <th>genre</th>\n",
       "        <th>developedBy</th>\n",
       "        <th>sGName</th>\n",
       "        <th>length</th>\n",
       "        <th>type</th>\n",
       "    </tr>\n",
       "    <tr>\n",
       "        <td>MINECRAFT</td>\n",
       "        <td>2009-05-17</td>\n",
       "        <td>30</td>\n",
       "        <td>9</td>\n",
       "        <td>14</td>\n",
       "        <td>MINECRAFT</td>\n",
       "        <td>1000</td>\n",
       "        <td>OPEN WORLD</td>\n",
       "    </tr>\n",
       "</table>"
      ],
      "text/plain": [
       "[('MINECRAFT', '2009-05-17', 30, 9, 14, 'MINECRAFT', 1000, 'OPEN WORLD')]"
      ]
     },
     "execution_count": 10,
     "metadata": {},
     "output_type": "execute_result"
    }
   ],
   "source": [
    "%%sql\n",
    "select * from Games G, Story S where G.name = S.sGName and S.type = 'OPEN WORLD' and S.length > 100;"
   ]
  },
  {
   "cell_type": "code",
   "execution_count": 11,
   "metadata": {},
   "outputs": [
    {
     "name": "stdout",
     "output_type": "stream",
     "text": [
      " * sqlite:///36.db\n",
      "Done.\n"
     ]
    },
    {
     "data": {
      "text/html": [
       "<table>\n",
       "    <tr>\n",
       "        <th>name</th>\n",
       "    </tr>\n",
       "    <tr>\n",
       "        <td>Customers</td>\n",
       "    </tr>\n",
       "    <tr>\n",
       "        <td>Developers</td>\n",
       "    </tr>\n",
       "    <tr>\n",
       "        <td>Games</td>\n",
       "    </tr>\n",
       "    <tr>\n",
       "        <td>Genres</td>\n",
       "    </tr>\n",
       "    <tr>\n",
       "        <td>MultiPlayer</td>\n",
       "    </tr>\n",
       "    <tr>\n",
       "        <td>ServiceModel</td>\n",
       "    </tr>\n",
       "    <tr>\n",
       "        <td>SinglePlayer</td>\n",
       "    </tr>\n",
       "    <tr>\n",
       "        <td>Story</td>\n",
       "    </tr>\n",
       "    <tr>\n",
       "        <td>Transactions</td>\n",
       "    </tr>\n",
       "</table>"
      ],
      "text/plain": [
       "[('Customers',),\n",
       " ('Developers',),\n",
       " ('Games',),\n",
       " ('Genres',),\n",
       " ('MultiPlayer',),\n",
       " ('ServiceModel',),\n",
       " ('SinglePlayer',),\n",
       " ('Story',),\n",
       " ('Transactions',)]"
      ]
     },
     "execution_count": 11,
     "metadata": {},
     "output_type": "execute_result"
    }
   ],
   "source": [
    "%%sql\n",
    "select name from sqlite_master where type in ('table', 'view') and name NOT LIKE 'sqlite_%' ORDER BY 1;"
   ]
  },
  {
   "cell_type": "code",
   "execution_count": 13,
   "metadata": {},
   "outputs": [
    {
     "name": "stdout",
     "output_type": "stream",
     "text": [
      " * sqlite:///36.db\n",
      "Done.\n"
     ]
    },
    {
     "data": {
      "text/html": [
       "<table>\n",
       "    <tr>\n",
       "        <th>sql</th>\n",
       "    </tr>\n",
       "</table>"
      ],
      "text/plain": [
       "[]"
      ]
     },
     "execution_count": 13,
     "metadata": {},
     "output_type": "execute_result"
    }
   ],
   "source": [
    "%%sql\n",
    "select sql from sqlite_master where type='table' and name='ExampleTable';"
   ]
  },
  {
   "cell_type": "code",
   "execution_count": null,
   "metadata": {},
   "outputs": [],
   "source": []
  }
 ],
 "metadata": {
  "kernelspec": {
   "display_name": "Python 3",
   "language": "python",
   "name": "python3"
  },
  "language_info": {
   "codemirror_mode": {
    "name": "ipython",
    "version": 3
   },
   "file_extension": ".py",
   "mimetype": "text/x-python",
   "name": "python",
   "nbconvert_exporter": "python",
   "pygments_lexer": "ipython3",
   "version": "3.7.3"
  }
 },
 "nbformat": 4,
 "nbformat_minor": 2
}

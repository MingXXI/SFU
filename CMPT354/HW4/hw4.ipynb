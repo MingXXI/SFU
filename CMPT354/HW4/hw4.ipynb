{
 "cells": [
  {
   "cell_type": "markdown",
   "metadata": {},
   "source": [
    "# HW4. Relational Algebra & Query Plans"
   ]
  },
  {
   "cell_type": "markdown",
   "metadata": {},
   "source": [
    "## Objectives"
   ]
  },
  {
   "cell_type": "markdown",
   "metadata": {},
   "source": [
    "In this homework assignment, you will review your knowledge in two different topics:\n",
    "\n",
    " - Relational Algebra\n",
    " - Query Processing & Optimization\n",
    "\n",
    "This assignment has two sections, and a total of 20 points. "
   ]
  },
  {
   "cell_type": "markdown",
   "metadata": {},
   "source": [
    "### Preparation "
   ]
  },
  {
   "cell_type": "markdown",
   "metadata": {},
   "source": [
    "To write a relational algebra query in a cell, the cell should be a [Markdown cell](https://jupyter-notebook.readthedocs.io/en/stable/examples/Notebook/Working%20With%20Markdown%20Cells.html). You can use [LaTeX equations](https://jupyter-notebook.readthedocs.io/en/stable/examples/Notebook/Working%20With%20Markdown%20Cells.html#LaTeX-equations) in a markdown cell for required algebraic notation. Here is a list of the main operators:\n",
    "\n",
    "* Selection ($\\sigma$)\n",
    "* Projection ($\\pi$)\n",
    "* Union ($\\cup$)\n",
    "* Intersect ($\\cap$)\n",
    "* Set Difference ($-$) \n",
    "* Cross Product ($\\times$)\n",
    "* Rename ($\\rho$)\n",
    "* Join ($\\bowtie$)\n",
    "* Conjunction ($\\wedge$)\n",
    "* Disconjunction ($\\vee$)\n",
    "* Greater Than or Equal To ($\\geq$)\n",
    "* Less Than or Equal To ($\\leq$)\n",
    "\n",
    "You may also need $_{Subscript}$ and $^{Superscript}$ in the notations you use.\n",
    "\n",
    "Consider the same bank database you have used in homework assignments 2 and 3.\n",
    " - Customer = {<span style=\"text-decoration:underline\">customerID</span>, firstName, lastName, income, birthDate}\n",
    " - Account = {<span style=\"text-decoration:underline\">accNumber</span>, type, balance, branchNumber<sup>FK-Branch</sup>}\n",
    " - Owns = {<span style=\"text-decoration:underline\">customerID</span><sup>FK-Customer</sup>, <span style=\"text-decoration:underline\">accNumber</span><sup>FK-Account</sup>}\n",
    " - Transactions = {<span style=\"text-decoration:underline\">transNumber</span>, <span style=\"text-decoration:underline\">accNumber</span><sup>FK-Account</sup>, amount}\n",
    " - Employee = {<span style=\"text-decoration:underline\">sin</span>, firstName, lastName, salary, branchNumber<sup>FK-Branch</sup>}\n",
    " - Branch = {<span style=\"text-decoration:underline\">branchNumber</span>, branchName, managerSIN<sup>FK-Employee</sup>, budget}\n",
    " "
   ]
  },
  {
   "cell_type": "markdown",
   "metadata": {},
   "source": [
    "## Q1: Relational Algebra (5 points)\n"
   ]
  },
  {
   "cell_type": "markdown",
   "metadata": {},
   "source": [
    "In this assignment, we want you to write down the relational algebraic presentations for the queries you have previously written to extract data from the bank database.\n",
    "\n",
    "1.1. Find out names of the bank branches and first name and last name of their managers."
   ]
  },
  {
   "cell_type": "markdown",
   "metadata": {},
   "source": [
    "**Original SQL Query: **\"select Branch.branchName, Employee.firstName, Employee.lastName \n",
    "from Branch, Employee where Branch.managerSIN = Employee.sin\"\n",
    "\n",
    "**Relational Algebra Expression:**\n",
    "$\\pi_{Branch.branchName, Employee.firstName, Employee.lastName}(\\sigma_{Branch.managerSIN = Employee.sin} (Branch \\times Employee) )$"
   ]
  },
  {
   "cell_type": "markdown",
   "metadata": {},
   "source": [
    "1.2. Show account number, account type, account balance, and transaction amount of the accounts with balance higher than 100,000 and transaction amounts higher than 15000."
   ]
  },
  {
   "cell_type": "markdown",
   "metadata": {},
   "source": [
    "**Original SQL Query**: \"select Account.accNumber, Account.type, Account.balance, Transactions.amount from Account, Transactions \n",
    "where Account.accNumber = Transactions.accNumber and \n",
    "    Account.balance > 100000 and Transactions.amount > 15000 \"\n",
    "    \n",
    "**Relational Algebra Expression:**\n",
    "$\\pi_{Account.accNumber, Account.type, Account.balance, Transactions.amount}(\\sigma_{account.accNumber = Transactions.accNumber \\wedge Account.balance > 100000 \\wedge Transactions.amount > 15000} (Account \\times Transactions) )$"
   ]
  },
  {
   "cell_type": "markdown",
   "metadata": {},
   "source": [
    "1.3. Show first name, last name, and income of customers whose income is at least twice the income of any customer whose lastName is Butler. "
   ]
  },
  {
   "cell_type": "markdown",
   "metadata": {},
   "source": [
    "**Original SQL Query:** \"select firstName, lastName, income from Customer \n",
    "where income >= 2*(select income from Customer C where C.lastName = 'Butler')\"\n",
    "                            \n",
    "**Relational Algebra Expression:**\n",
    "1. Subquery: $\\pi_{income}(\\sigma_{C.lastName = 'Butler'} (\\rho_{C} (Customer)) )$\n",
    "2. Together with outer query: $\\pi_{firstName, lastName, income}(\\sigma_{income \\geq  2*(\\pi_{income}(\\sigma_{C.lastName = 'Butler'} (\\rho_{C} (Customer)) ))} (Customer) )$"
   ]
  },
  {
   "cell_type": "markdown",
   "metadata": {},
   "source": [
    "1.4. Show Customer ID, income, account numbers and branch numbers of customers with income greater than 90,000 who own an account at both London and Latveria branches."
   ]
  },
  {
   "cell_type": "markdown",
   "metadata": {},
   "source": [
    "**Original Query:** \"SELECT c.customerID, c.income, o.accNumber, a.branchNumber <br> FROM Customer c, Owns o, Account a <br>\n",
    "WHERE c.customerID = o.customerID and o.accNumber = a.accNumber and c.income>90000 and <br> EXISTS (select customerID from Owns o, Account a, Branch b WHERE o.accNumber = a.accNumber and a.branchNumber = b.branchNumber and b.branchName = 'London' and c.customerID = o.customerID) and <br> EXISTS (select customerID from Owns o, Account a, Branch b where o.accNumber = a.accNumber and a.branchNumber = b.branchNumber and b.branchName = 'Latveria' and c.customerID = o.customerID)\"\n",
    "\n",
    "**Relational Algebra Expression:**\n",
    "1. Subquery 1:<br> $\\pi_{customerID}(\\sigma_{o.accNumber = a.accNumber \\wedge a.branchNumber = b.branchNumber \\wedge b.branchName = 'London' \\wedge c.customerID = o.customerID} (\\rho_{o} (Owns)\\times \\rho_{a} (Account)\\times \\rho_{b} (Branch)) )$ \n",
    "2. Subquery 2:<br> $\\pi_{customerID}(\\sigma_{o.accNumber = a.accNumber \\wedge a.branchNumber = b.branchNumber \\wedge b.branchName = 'Latveria' \\wedge c.customerID = o.customerID} (\\rho_{o} (Owns)\\times \\rho_{a} (Account)\\times \\rho_{b} (Branch)) )$ \n",
    "3. Combine with outer query (Use $\\bowtie$ to join tables and express \"EXISTS\" using \"join $\\bowtie$\") <br>\n",
    "$\\pi_{c.customerID, c.income, o.accNumber, a.branchNumber}(\\sigma_{c.customerID = o.customerID \\wedge o.accNumber = a.accNumber \\wedge c.income>90000} (\\rho_{c} (Customer)\\times \\rho_{o} (Owns)\\times \\rho_{a} (Account)) \\bowtie \\pi_{customerID}(\\sigma_{o.accNumber = a.accNumber \\wedge a.branchNumber = b.branchNumber \\wedge b.branchName = 'Latveria' \\wedge c.customerID = o.customerID} (\\rho_{o} (Owns)\\times \\rho_{a} (Account)\\times \\rho_{b} (Branch)) ) \\bowtie  \\pi_{customerID}(\\sigma_{o.accNumber = a.accNumber \\wedge a.branchNumber = b.branchNumber \\wedge b.branchName = 'London' \\wedge c.customerID = o.customerID} (\\rho_{o} (Owns)\\times \\rho_{a} (Account)\\times \\rho_{b} (Branch)) )   )$ \n",
    "\n",
    "**References: https://cs.ulb.ac.be/public/_media/teaching/infoh417/sql2alg_eng.pdf **\n"
   ]
  },
  {
   "cell_type": "markdown",
   "metadata": {},
   "source": [
    "1.5. Customer ID of customers who have an account at the New York branch, who do not own an account at the London branch and who do not co-own an account with another customer who owns an account at the London branch."
   ]
  },
  {
   "cell_type": "markdown",
   "metadata": {},
   "source": [
    "**Original Query:**<br> SELECT DISTINCT o.customerid <br>\n",
    "FROM owns o, account a, branch b <br>\n",
    "WHERE o.accnumber = a.accnumber and b.branchnumber = a.branchnumber and <br>\n",
    "b.branchname = 'New York' and o.customerid not in <br>\n",
    "(SELECT o1.customerid FROM owns o1, owns o2 WHERE o1.accnumber = o2.accnumber and\n",
    "o2.customerid in  <br>\n",
    "(SELECT olondon.customerid  <br>\n",
    " FROM owns olondon, account alondon, branch blondon  <br>\n",
    " WHERE olondon.accnumber = alondon.accnumber and alondon.branchnumber = blondon.branchnumber and blondon.branchname = 'London'))\n",
    " \n",
    " \n",
    "**Relational Algebra Expression:**<br>\n",
    "1. Subquery 1:<br> $\\pi_{o1.customerid}(\\sigma_{o1.accnumber = o2.accnumber \\wedge o1.customerid= o.customerid } (\\rho_{o1} (Owns)\\times \\rho_{o2} (Owns)) )$ \n",
    "2. Subquery 2: <br >$\\pi_{olondon.customerid}(\\sigma_{o2.customerid = olondon.customerid \\wedge olondon.accnumber = alondon.accnumber \\wedge alondon.branchnumber = blondon.branchnumber \\wedge blondon.branchname = 'London' } (\\rho_{olondon} (Owns)\\times \\rho_{alondon} (account)\\times \\rho_{blondon} (branch)) )$ \n",
    "3. Combine with outer query (Use $\\bowtie$ to join tables and express \"EXISTS\" using \"join $\\bowtie$\") <br>\n",
    "$\\pi_{o.customerid}(\\sigma_{o1.accnumber = o2.accnumber \\wedge o1.customerid= o.customerid } (\\rho_{o} (Owns)\\times \\rho_{a} (account)) )$ \n",
    "\n",
    "**References: https://cs.ulb.ac.be/public/_media/teaching/infoh417/sql2alg_eng.pdf **"
   ]
  },
  {
   "cell_type": "markdown",
   "metadata": {},
   "source": [
    "## Q2: Query Processing (15 points)"
   ]
  },
  {
   "cell_type": "markdown",
   "metadata": {},
   "source": [
    "In this assignment, we want to go through the query processing steps for a query you have previously written.\n",
    "\n",
    "2.1. (5 points). You have previously provided the SQL query to find out customer ID, first name, last name and income of customers who have income greater than $5000 and own accounts in all of the branches that Helen Morgan owns accounts in. Parse your query into a query parse tree."
   ]
  },
  {
   "cell_type": "markdown",
   "metadata": {},
   "source": [
    "<img src=\"ParseTree.jpg\" alt=\"Parse Tree\" style=\"width: 450px;\"/> "
   ]
  },
  {
   "cell_type": "markdown",
   "metadata": {},
   "source": [
    "2.2. (5 points). Convert your parse tree to the equivalent relational algebraic representation."
   ]
  },
  {
   "cell_type": "markdown",
   "metadata": {},
   "source": [
    "<img src=\"qp1.jpg\" alt=\"RA\" style=\"width: 450px;\"/> "
   ]
  },
  {
   "cell_type": "markdown",
   "metadata": {},
   "source": [
    "2.3. (3 points) Can you rewrite your query plan? "
   ]
  },
  {
   "cell_type": "markdown",
   "metadata": {},
   "source": [
    "<img src=\"qp2.jpg\" alt=\"Query Plan\" style=\"width: 450px;\"/> "
   ]
  },
  {
   "cell_type": "markdown",
   "metadata": {},
   "source": [
    "**Explanations:**<br>\n",
    "1. Remove \"duplicated elimination\" symbol, as there is no any duplication occur in the querry result<br>\n",
    "2. Move the selection \"income > 5000\", \"c.firstName = 'Helen'\" and \"c.lastName = 'Morgan'\" down to the most lower level of the query to decrease the size of tuples which would not inflect the query result but makes upper query more efficient.<br>\n",
    "3. Grouping the associative/commutative operators together to reduce the depth of query."
   ]
  },
  {
   "cell_type": "markdown",
   "metadata": {},
   "source": [
    "2.4. (2 points) Assume you have a million records in each of the six tables above. If you need, make necessary assumptions about your storage blocks, as well as about charactristics in the bank.db. Can you enumerate the size and cost of the intermediate tables in your query plan?"
   ]
  },
  {
   "cell_type": "markdown",
   "metadata": {},
   "source": [
    "Assume 100 of people have first name 'Halen', and last name 'Morgan', 10% people have income more than 5000. \n",
    "\n",
    "There would be 1000 distinct result from each table. \n",
    "\n",
    "Say subquery, \n",
    "S1 = $\\pi_{a.branchNumber}(\\sigma_{C.firstName = 'Helen' \\wedge\n",
    "                 C.lastName = 'Morgan' \\wedge C.customerID = O.customerid \\wedge O.accnumber = A.accnumber} (\\rho_{c} (customer)\\times \\rho_{o} (owns) \\times \\rho_{a} (account))) $\n",
    "\n",
    "S2 = $\\pi_{aa.branchNumber}(\\sigma_{aa.accNumber = oo.accNumber} (\\rho_{aa}(Account)\\times \\rho_{oo}(Owns)))$ \n",
    "\n",
    "\n",
    "Now we have: T(Customer$\\bowtie$Owns$\\bowtie$account) = T(Customer)T(Owns)T(Account)/max(V(Customer,Y), V(Owns,Y), Y(Account, Y))\n",
    "\n",
    "T(R)(1-(1-1/V(R,a))(1 - 1/10)) = 1,000,000 * (1-(1-1/100)*(1-1/10)) = 109000\n",
    "similarly apply this to S2 and get T(R'). \n",
    "\n",
    "The final result we can expect the difference would between T(R)-T(R') tuples"
   ]
  },
  {
   "cell_type": "markdown",
   "metadata": {},
   "source": [
    "## Submission"
   ]
  },
  {
   "cell_type": "markdown",
   "metadata": {},
   "source": [
    "Complete the code in this notebook.Put [hw4.ipynb](hw4.ipynb) and your image files together in a zip file [hw4.zip](hw4.zip), submit it to through Canvas system to your HW4 activity. You can also include a pdf file where you can add your comments, thoughts, explanations about any of the questions."
   ]
  }
 ],
 "metadata": {
  "kernelspec": {
   "display_name": "Python 3",
   "language": "python",
   "name": "python3"
  },
  "language_info": {
   "codemirror_mode": {
    "name": "ipython",
    "version": 3
   },
   "file_extension": ".py",
   "mimetype": "text/x-python",
   "name": "python",
   "nbconvert_exporter": "python",
   "pygments_lexer": "ipython3",
   "version": "3.7.3"
  }
 },
 "nbformat": 4,
 "nbformat_minor": 2
}

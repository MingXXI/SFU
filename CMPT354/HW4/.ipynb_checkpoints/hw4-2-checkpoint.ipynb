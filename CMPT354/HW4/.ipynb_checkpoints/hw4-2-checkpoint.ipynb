{
 "cells": [
  {
   "cell_type": "markdown",
   "metadata": {},
   "source": [
    "# HW4. Relational Algebra & Query Plans"
   ]
  },
  {
   "cell_type": "markdown",
   "metadata": {},
   "source": [
    "## Objectives"
   ]
  },
  {
   "cell_type": "markdown",
   "metadata": {},
   "source": [
    "In this homework assignment, you will review your knowledge in two different topics:\n",
    "\n",
    " - Relational Algebra\n",
    " - Query Processing & Optimization\n",
    "\n",
    "This assignment has two sections, and a total of 20 points. "
   ]
  },
  {
   "cell_type": "markdown",
   "metadata": {},
   "source": [
    "### Preparation "
   ]
  },
  {
   "cell_type": "markdown",
   "metadata": {},
   "source": [
    "To write a relational algebra query in a cell, the cell should be a [Markdown cell](https://jupyter-notebook.readthedocs.io/en/stable/examples/Notebook/Working%20With%20Markdown%20Cells.html). You can use [LaTeX equations](https://jupyter-notebook.readthedocs.io/en/stable/examples/Notebook/Working%20With%20Markdown%20Cells.html#LaTeX-equations) in a markdown cell for required algebraic notation. Here is a list of the main operators:\n",
    "\n",
    "* Selection ($\\sigma$)\n",
    "* Projection ($\\pi$)\n",
    "* Union ($\\cup$)\n",
    "* Intersect ($\\cap$)\n",
    "* Set Difference ($-$) \n",
    "* Cross Product ($\\times$)\n",
    "* Rename ($\\rho$)\n",
    "* Join ($\\bowtie$)\n",
    "* Conjunction ($\\wedge$)\n",
    "* Disconjunction ($\\vee$)\n",
    "* Greater Than or Equal To ($\\geq$)\n",
    "* Less Than or Equal To ($\\leq$)\n",
    "\n",
    "You may also need $_{Subscript}$ and $^{Superscript}$ in the notations you use.\n",
    "\n",
    "Consider the same bank database you have used in homework assignments 2 and 3.\n",
    " - Customer = {<span style=\"text-decoration:underline\">customerID</span>, firstName, lastName, income, birthDate}\n",
    " - Account = {<span style=\"text-decoration:underline\">accNumber</span>, type, balance, branchNumber<sup>FK-Branch</sup>}\n",
    " - Owns = {<span style=\"text-decoration:underline\">customerID</span><sup>FK-Customer</sup>, <span style=\"text-decoration:underline\">accNumber</span><sup>FK-Account</sup>}\n",
    " - Transactions = {<span style=\"text-decoration:underline\">transNumber</span>, <span style=\"text-decoration:underline\">accNumber</span><sup>FK-Account</sup>, amount}\n",
    " - Employee = {<span style=\"text-decoration:underline\">sin</span>, firstName, lastName, salary, branchNumber<sup>FK-Branch</sup>}\n",
    " - Branch = {<span style=\"text-decoration:underline\">branchNumber</span>, branchName, managerSIN<sup>FK-Employee</sup>, budget}\n",
    " "
   ]
  },
  {
   "cell_type": "markdown",
   "metadata": {},
   "source": [
    "## Q1: Relational Algebra (5 points)\n"
   ]
  },
  {
   "cell_type": "markdown",
   "metadata": {},
   "source": [
    "In this assignment, we want you to write down the relational algebraic presentations for the queries you have previously written to extract data from the bank database.\n",
    "\n",
    "1.1. Find out names of the bank branches and first name and last name of their managers."
   ]
  },
  {
   "cell_type": "markdown",
   "metadata": {},
   "source": [
    "**Original SQL Query**: \"SELECT Branch.branchName, Employee.firstName, Employee.lastName \n",
    "FROM Branch, Employee WHERE Branch.managerSIN = Employee.sin\""
   ]
  },
  {
   "cell_type": "markdown",
   "metadata": {},
   "source": [
    "**Relational Algebra Expression:**\n",
    "$\\pi_{Branch.branchName, Employee.firstName, Employee.lastName}(\\sigma_{Branch.managerSIN = Employee.sin} (Branch \\times Employee) )$"
   ]
  },
  {
   "cell_type": "markdown",
   "metadata": {},
   "source": [
    "________________________________"
   ]
  },
  {
   "cell_type": "markdown",
   "metadata": {},
   "source": [
    "1.2. Show account number, account type, account balance, and transaction amount of the accounts with balance higher than 100,000 and transaction amounts higher than 15000."
   ]
  },
  {
   "cell_type": "markdown",
   "metadata": {},
   "source": [
    "**Original SQL Query**: \"SELECT Account.accNumber, Account.type, Account.balance, Transactions.amount FROM Account, Transactions \n",
    "WHERE Account.accNumber = Transactions.accNumber AND \n",
    "    Account.balance > 100000 AND Transactions.amount > 15000 \""
   ]
  },
  {
   "cell_type": "markdown",
   "metadata": {},
   "source": [
    "**Relational Algebra Expression:**\n",
    "$\\pi_{Account.accNumber, Account.type, Account.balance, Transactions.amount}(\\sigma_{account.accNumber = Transactions.accNumber \\wedge Account.balance > 100000 \\wedge Transactions.amount > 15000} (Account \\times Transactions) )$"
   ]
  },
  {
   "cell_type": "markdown",
   "metadata": {},
   "source": [
    "_____________________"
   ]
  },
  {
   "cell_type": "markdown",
   "metadata": {},
   "source": [
    "1.3. Show first name, last name, and income of customers whose income is at least twice the income of any customer whose lastName is Butler. "
   ]
  },
  {
   "cell_type": "markdown",
   "metadata": {},
   "source": [
    "**Original SQL Query:** \"SELECT firstName, lastName, income FROM Customer \n",
    "WHERE income >= 2*(SELECT income FROM Customer C\n",
    "                            WHERE C.lastName = 'Butler')\""
   ]
  },
  {
   "cell_type": "markdown",
   "metadata": {},
   "source": [
    "**Relational Algebra Expression:**\n",
    "1. Subquery: $\\pi_{income}(\\sigma_{C.lastName = 'Butler'} (\\rho_{C} (Customer)) )$\n",
    "2. Together with outer query: $\\pi_{firstName, lastName, income}(\\sigma_{income \\geq  2*(\\pi_{income}(\\sigma_{C.lastName = 'Butler'} (\\rho_{C} (Customer)) ))} (Customer) )$"
   ]
  },
  {
   "cell_type": "markdown",
   "metadata": {},
   "source": [
    "**Equivalent SQL Query (To format \"EXISTS / NOT EXISTS\"):**\"SELECT C.firstName, C.lastName, C.income FROM Customer C \n",
    "WHERE NOT EXISTS (SELECT income FROM Customer CC\n",
    "                            WHERE CC.lastName = 'Butler' AND\n",
    "                            C.income < 2*CC.income )\""
   ]
  },
  {
   "cell_type": "markdown",
   "metadata": {},
   "source": [
    "After transferring to \"EXISTS / NOT EXISTS\", we could use \"Anti-Join (R ⋈¯ S), (or, equivalently (R $-$ (R $\\bowtie$ S)))\" to express \"EXISTS / NOT EXISTS\" **References: http://mlwiki.org/index.php/Translating_SQL_to_Relational_Algebra **"
   ]
  },
  {
   "cell_type": "markdown",
   "metadata": {},
   "source": [
    "**Relational Algebra Expression:**\n",
    "1. Subquery: <br>\n",
    "    $\\pi_{income}(\\sigma_{CC.lastName = 'Butler'\\wedge C.income < 2 * CC.income} (\\rho_{CC} (Customer)) )$ \n",
    "2. Add context relations and parameters: <br> $\\pi_{income,  customerID, firstName, lastName, income, birthDate}(\\sigma_{CC.lastName = 'Butler'\\wedge C.income < 2 * CC.income} (\\rho_{CC} (Customer)\n",
    "\\times \\rho_{C} (Customer)))$\n",
    "3. For FROM clause: <br>\n",
    "$\\rho_{C} (Customer)$\n",
    "4. Synchronize the results, with  Anti-Join ( ⋈¯ ) : <br>\n",
    "[$\\rho_{C} (Customer)$] ⋈¯ [$\\pi_{income,  customerID, firstName, lastName, income, birthDate}(\\sigma_{CC.lastName = 'Butler'\\wedge C.income < 2 * CC.income} (\\rho_{CC} (Customer)\n",
    "\\times \\rho_{C} (Customer)))$] \n",
    "5. Final answer: Translate \"SELECT\" <br>\n",
    "$\\pi_{firstname, lastname, income}$\n",
    "[[$\\rho_{C} (Customer)$] ⋈¯ [$\\pi_{income,  customerID, firstName, lastName, income, birthDate}(\\sigma_{CC.lastName = 'Butler'\\wedge C.income < 2 * CC.income} (\\rho_{CC} (Customer)\n",
    "\\times \\rho_{C} (Customer)))$]]"
   ]
  },
  {
   "cell_type": "markdown",
   "metadata": {},
   "source": [
    "__________"
   ]
  },
  {
   "cell_type": "markdown",
   "metadata": {},
   "source": [
    "1.4. Show Customer ID, income, account numbers and branch numbers of customers with income greater than 90,000 who own an account at both London and Latveria branches."
   ]
  },
  {
   "cell_type": "markdown",
   "metadata": {},
   "source": [
    "**Original Query:** \"SELECT c.customerID, c.income, o.accNumber, a.branchNumber <br> FROM Customer c, Owns o, Account a <br>\n",
    "WHERE c.customerID = o.customerID and o.accNumber = a.accNumber and c.income>90000 and <br> EXISTS (select customerID from Owns o, Account a, Branch b WHERE o.accNumber = a.accNumber and a.branchNumber = b.branchNumber and b.branchName = 'London' and c.customerID = o.customerID) and <br> EXISTS (select customerID from Owns o, Account a, Branch b where o.accNumber = a.accNumber and a.branchNumber = b.branchNumber and b.branchName = 'Latveria' and c.customerID = o.customerID)\"\n",
    "\n",
    "\n"
   ]
  },
  {
   "cell_type": "markdown",
   "metadata": {},
   "source": [
    "**Relational Algebra Expression:**\n",
    "1. Subquery 1:<br> $\\pi_{customerID}(\\sigma_{o.accNumber = a.accNumber \\wedge a.branchNumber = b.branchNumber \\wedge b.branchName = 'London' \\wedge c.customerID = o.customerID} (\\rho_{o} (Owns)\\times \\rho_{a} (Account)\\times \\rho_{b} (Branch)) )$ \n",
    "2. Subquery 2:<br> $\\pi_{customerID}(\\sigma_{o.accNumber = a.accNumber \\wedge a.branchNumber = b.branchNumber \\wedge b.branchName = 'Latveria' \\wedge c.customerID = o.customerID} (\\rho_{o} (Owns)\\times \\rho_{a} (Account)\\times \\rho_{b} (Branch)) )$ \n",
    "3. Combine with outer query (Use $\\bowtie$ to join tables and express \"EXISTS\" using \"join $\\bowtie$\" **References: https://cs.ulb.ac.be/public/_media/teaching/infoh417/sql2alg_eng.pdf **) <br>\n",
    "$\\pi_{c.customerID, c.income, o.accNumber, a.branchNumber}(\\sigma_{c.customerID = o.customerID \\wedge o.accNumber = a.accNumber \\wedge c.income>90000} (\\rho_{c} (Customer)\\times \\rho_{o} (Owns)\\times \\rho_{a} (Account)) \\bowtie \\pi_{customerID}(\\sigma_{o.accNumber = a.accNumber \\wedge a.branchNumber = b.branchNumber \\wedge b.branchName = 'Latveria' \\wedge c.customerID = o.customerID} (\\rho_{o} (Owns)\\times \\rho_{a} (Account)\\times \\rho_{b} (Branch)) ) \\bowtie  \\pi_{customerID}(\\sigma_{o.accNumber = a.accNumber \\wedge a.branchNumber = b.branchNumber \\wedge b.branchName = 'London' \\wedge c.customerID = o.customerID} (\\rho_{o} (Owns)\\times \\rho_{a} (Account)\\times \\rho_{b} (Branch)) )   )$ "
   ]
  },
  {
   "cell_type": "markdown",
   "metadata": {},
   "source": [
    "________"
   ]
  },
  {
   "cell_type": "markdown",
   "metadata": {},
   "source": [
    "1.5. Customer ID of customers who have an account at the New York branch, who do not own an account at the London branch and who do not co-own an account with another customer who owns an account at the London branch."
   ]
  },
  {
   "cell_type": "markdown",
   "metadata": {},
   "source": [
    "**Original Query:**<br> SELECT DISTINCT o.customerid <br>\n",
    "FROM owns o, account a, branch b <br>\n",
    "WHERE o.accnumber = a.accnumber and b.branchnumber = a.branchnumber and <br>\n",
    "b.branchname = 'New York' and o.customerid not in <br>\n",
    "(SELECT o1.customerid FROM owns o1, owns o2 WHERE o1.accnumber = o2.accnumber and\n",
    "o2.customerid in  <br>\n",
    "(SELECT olondon.customerid  <br>\n",
    " FROM owns olondon, account alondon, branch blondon  <br>\n",
    " WHERE olondon.accnumber = alondon.accnumber and alondon.branchnumber = blondon.branchnumber and blondon.branchname = 'London'))"
   ]
  },
  {
   "cell_type": "markdown",
   "metadata": {},
   "source": [
    "**Equivalent Query with \"EXISTS / NOT EXISTS\"** <br>\n",
    "SELECT DISTINCT (o.customerid) <br>\n",
    "FROM owns o, account a, branch b  <br>\n",
    "WHERE o.accnumber = a.accnumber and b.branchnumber = a.branchnumber and b.branchname = 'New York' and  <br>\n",
    "NOT EXISTS <br>\n",
    "(SELECT o1.customerid FROM owns o1, owns o2 WHERE o1.accnumber = o2.accnumber AND o1.customerid= o.customerid \n",
    " and <br> EXISTS  <br>\n",
    "(SELECT olondon.customerid \n",
    "FROM owns olondon, account alondon, branch blondon \n",
    "WHERE o2.customerid = olondon.customerid AND olondon.accnumber = alondon.accnumber and alondon.branchnumber = blondon.branchnumber and blondon.branchname = 'London'))"
   ]
  },
  {
   "cell_type": "markdown",
   "metadata": {},
   "source": [
    "**Relational Algebra Expression:**\n",
    "1. Subquery 1:<br> $\\pi_{o1.customerid}(\\sigma_{o1.accnumber = o2.accnumber \\wedge o1.customerid= o.customerid } (\\rho_{o1} (Owns)\\times \\rho_{o2} (Owns)) )$ \n",
    "2. Subquery 2: <br >$\\pi_{olondon.customerid}(\\sigma_{o2.customerid = olondon.customerid \\wedge olondon.accnumber = alondon.accnumber \\wedge alondon.branchnumber = blondon.branchnumber \\wedge blondon.branchname = 'London' } (\\rho_{olondon} (Owns)\\times \\rho_{alondon} (account)\\times \\rho_{blondon} (branch)) )$ \n",
    "3. Combine with outer query (Express \"EXISTS\" using \"join $\\bowtie$ and express \"NOT EXISTS\" using \"anti-join ⋈¯ \"**References: https://cs.ulb.ac.be/public/_media/teaching/infoh417/sql2alg_eng.pdf**) <br>\n",
    "$\\pi_{o.customerid}(\\sigma_{o.accnumber = a.accnumber \\wedge b.branchnumber = a.branchnumber \\wedge b.branchname = 'New York' } (\\rho_{o} (Owns)\\times \\rho_{a} (account) \\times \\rho_{b} (branch))  )$ \n"
   ]
  },
  {
   "cell_type": "markdown",
   "metadata": {},
   "source": [
    "_______"
   ]
  },
  {
   "cell_type": "markdown",
   "metadata": {},
   "source": [
    "## Q2: Query Processing (15 points)"
   ]
  },
  {
   "cell_type": "markdown",
   "metadata": {},
   "source": [
    "In this assignment, we want to go through the query processing steps for a query you have previously written.\n",
    "\n",
    "2.1. (5 points). You have previously provided the SQL query to find out customer ID, first name, last name and income of customers who have income greater than $5000 and own accounts in all of the branches that Helen Morgan owns accounts in. Parse your query into a query parse tree."
   ]
  },
  {
   "cell_type": "markdown",
   "metadata": {},
   "source": [
    "**Original Query from my HW3:** SELECT customer.customerID, customer.firstName, customer.lastName, customer.income\n",
    "FROM Customer <br>\n",
    "WHERE NOT EXISTS <br> (SELECT A.branchnumber\n",
    "                 FROM customer C, owns O, account A\n",
    "                 WHERE C.customerID = O.customerid AND\n",
    "                 O.accnumber = A.accnumber AND\n",
    "                 C.firstName = 'Helen' AND\n",
    "                 C.lastName = 'Morgan' <br>\n",
    "                 EXCEPT <br>\n",
    "                 SELECT A1.branchnumber\n",
    "                 FROM Owns O1, Account A1\n",
    "                  WHERE O1.accNumber = A1.accNumber AND\n",
    "                  O1.customerID = c.customerID) <br>\n",
    "        AND c.income > 5000"
   ]
  },
  {
   "cell_type": "markdown",
   "metadata": {},
   "source": [
    "<img src=\"ParseTree.png\" alt=\"Parse Tree\" style=\"width: 450px;\"/> "
   ]
  },
  {
   "cell_type": "markdown",
   "metadata": {},
   "source": [
    "_______"
   ]
  },
  {
   "cell_type": "markdown",
   "metadata": {},
   "source": [
    "2.2. (5 points). Convert your parse tree to the equivalent relational algebraic representation."
   ]
  },
  {
   "cell_type": "markdown",
   "metadata": {},
   "source": [
    "**Original Query from my HW3:** SELECT customer.customerID, customer.firstName, customer.lastName, customer.income\n",
    "FROM Customer <br>\n",
    "WHERE NOT EXISTS <br> (SELECT A.branchnumber\n",
    "                 FROM customer C, owns O, account A\n",
    "                 WHERE C.customerID = O.customerid AND\n",
    "                 O.accnumber = A.accnumber AND\n",
    "                 C.firstName = 'Helen' AND\n",
    "                 C.lastName = 'Morgan' <br>\n",
    "                 EXCEPT <br>\n",
    "                 SELECT A1.branchnumber\n",
    "                 FROM Owns O1, Account A1\n",
    "                  WHERE O1.accNumber = A1.accNumber AND\n",
    "                  O1.customerID = c.customerID) <br>\n",
    "        AND c.income > 5000\n",
    "<img src=\"qp1.png\" alt=\"RA\" style=\"width: 450px;\"/> "
   ]
  },
  {
   "cell_type": "markdown",
   "metadata": {},
   "source": [
    "_______"
   ]
  },
  {
   "cell_type": "markdown",
   "metadata": {},
   "source": [
    "2.3. (3 points) Can you rewrite your query plan? "
   ]
  },
  {
   "cell_type": "markdown",
   "metadata": {},
   "source": [
    "<img src=\"qp2.png\" alt=\"Query Plan\" style=\"width: 450px;\"/> "
   ]
  },
  {
   "cell_type": "markdown",
   "metadata": {},
   "source": [
    "**Explanations:**\n",
    "1. I remove \"duplicated elimination\" symbol, as it does not influence the final result of our query.\n",
    "2. I push the selection \"income > 5000\" down to one of the subquery, which could get the same result and improve the effieiency a lot.\n",
    "3. I group the associative/commutative operators together, not hierarchically.\n",
    "4. I remove the involvement of table \"Branch\" and replace the \"branchname\" by \"branchNumber\". This simplify my query and could get the same result, as \"branchname\" and \"branchNumber\" could both represent a branch."
   ]
  },
  {
   "cell_type": "markdown",
   "metadata": {},
   "source": [
    "_________"
   ]
  },
  {
   "cell_type": "markdown",
   "metadata": {},
   "source": [
    "2.4. (2 points) Assume you have a million records in each of the six tables above. If you need, make necessary assumptions about your storage blocks, as well as about charactristics in the bank.db. Can you enumerate the size and cost of the intermediate tables in your query plan?"
   ]
  },
  {
   "cell_type": "markdown",
   "metadata": {},
   "source": [
    "Suppose we have: \n",
    "1. 1000 people with firstname 'Helen'\n",
    "2. 1000 people with lastname 'Morgan'\n",
    "3. 1/10 people with income > 5000<br>\n",
    "\n",
    "Hence, for each table: <br>\n",
    "1. R(a,b) has T(R) = 1,000,000 records\n",
    "2. V(R,a) = 1,000. 1,000,000/1,000 = 1,000, which means that there are 1000 distinct variables in each table<br>\n",
    "\n",
    "Let:\n",
    "1. Subquery 1: S = $\\pi_{a.branchNumber}(\\sigma_{C.firstName = 'Helen' \\wedge\n",
    "                 C.lastName = 'Morgan' \\wedge C.customerID = O.customerid \\wedge O.accnumber = A.accnumber} (\\rho_{c} (customer)\\times \\rho_{o} (owns) \\times \\rho_{a} (account))) $<br>\n",
    "2. Subquery 2: S = $\\pi_{aa.branchNumber}(\\sigma_{aa.accNumber = oo.accNumber} (\\rho_{aa}(Account)\\times \\rho_{oo}(Owns)))$ <br>\n",
    "**Note: we need to do the set difference between subqueires 1 and 2** <br>\n",
    "\n",
    "For subquery 1: <br>\n",
    "1. Size of the natural join of 3 tables: <br>\n",
    "T(Customer$\\bowtie$Owns$\\bowtie$account) = T(Customer)T(Owns)T(Account)/max(V(Customer,Y), V(Owns,Y), Y(Account, Y))\n",
    "2. V(R,a) = 1000 [1000 different people], the number of tuples that satisfy income < 5000 is 1/10 of the total tuples. Hence, we could do a fair estimation on the size of S (without join):  <br>\n",
    "T(R)(1-(1-1/V(R,a))(1 - 1/10)) = 1,000,000 * (1-(1-1/1,000)*(1-1/10))\n",
    "\n",
    "<br>For subquery 2: <br>\n",
    "The basic step is similar. Suppose after calcuation we get the size estimation: T(R1)\n",
    "            \n",
    "<br>Hence, for the set difference (or, except), we could get the result is between T(R) - T(R1) tuples. \n",
    "One fair approach is to do an average: T(R) - T(R1)/2\n"
   ]
  },
  {
   "cell_type": "markdown",
   "metadata": {},
   "source": [
    "_______"
   ]
  },
  {
   "cell_type": "markdown",
   "metadata": {},
   "source": [
    "## Submission"
   ]
  },
  {
   "cell_type": "markdown",
   "metadata": {},
   "source": [
    "Complete the code in this notebook.Put [hw4.ipynb](hw4.ipynb) and your image files together in a zip file [hw4.zip](hw4.zip), submit it to through Canvas system to your HW4 activity. You can also include a pdf file where you can add your comments, thoughts, explanations about any of the questions."
   ]
  }
 ],
 "metadata": {
  "kernelspec": {
   "display_name": "Python 3",
   "language": "python",
   "name": "python3"
  },
  "language_info": {
   "codemirror_mode": {
    "name": "ipython",
    "version": 3
   },
   "file_extension": ".py",
   "mimetype": "text/x-python",
   "name": "python",
   "nbconvert_exporter": "python",
   "pygments_lexer": "ipython3",
   "version": "3.7.3"
  }
 },
 "nbformat": 4,
 "nbformat_minor": 2
}

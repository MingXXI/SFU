{
 "cells": [
  {
   "cell_type": "code",
   "execution_count": 1,
   "metadata": {},
   "outputs": [
    {
     "name": "stdout",
     "output_type": "stream",
     "text": [
      "data1 mean of x: 8.717696186413818 y: 12.522874034702589\n",
      "data1 SD of x: 12.155517231222024 y: 6.63996400756785\n",
      "data1 min of x: -22.635877790008944 y: -2.5650878326932127\n",
      "data1 max of x: 35.23705548785129 y: 27.38415261152477\n",
      "data2 mean of x: -0.7107871267159582 y: -0.7489869764497992\n",
      "data2 SD of x: 11.481583587790732 y: 6.257917998755848\n",
      "data2 min of x: -33.2711130771198 y: -18.621803760419066\n",
      "data2 max of x: 27.6470003722073 y: 14.147314992317481\n",
      "data3 mean of x: 0.9689074904200942 y: 8.50853523664133\n",
      "data3 SD of x: 2.23555786105797 y: 1.1493008110024527\n",
      "data3 min of x: -2.4490643296742807 y: 6.641734490391762\n",
      "data3 max of x: 4.51888491755363 y: 10.551871022804317\n",
      "data4 mean of x: 49.90508614830509 y: 18.55383652542372\n",
      "data4 SD of x: 28.50861051988193 y: 16.545896442941686\n",
      "data4 min of x: 0.0 y: 0.0\n",
      "data4 max of x: 87.3767 y: 44.56504\n",
      "data5 mean of x: 49.90999357843096 y: 18.55552493772909\n",
      "data5 SD of x: 28.500000943801368 y: 16.540796301840782\n",
      "data5 min of x: 4.337892453674525 y: 0.05549750758115175\n",
      "data5 max of x: 91.0528633396976 y: 49.93419703633311\n",
      "data6 mean of x: 7.2161551796099195 y: 7.6022150282372944\n",
      "data6 SD of x: 11.921599067458313 y: 11.764382455006647\n",
      "data6 min of x: -24.33382075234097 y: -22.9563569970746\n",
      "data6 max of x: 35.402138910929 y: 36.07987403078143\n",
      "The correlation of data1: 0.9503256954375482\n",
      "The correlation of data2: 0.9551531665750373\n",
      "The correlation of data3: 0.9819372646760665\n",
      "The correlation of data4: -0.08119306735490815\n",
      "The correlation of data5: -0.08823598983058883\n",
      "The correlation of data6: 0.9350685662094905\n"
     ]
    },
    {
     "data": {
      "text/plain": [
       "<Figure size 640x480 with 1 Axes>"
      ]
     },
     "metadata": {},
     "output_type": "display_data"
    },
    {
     "data": {
      "text/plain": [
       "<Figure size 640x480 with 1 Axes>"
      ]
     },
     "metadata": {},
     "output_type": "display_data"
    },
    {
     "data": {
      "text/plain": [
       "<Figure size 640x480 with 1 Axes>"
      ]
     },
     "metadata": {},
     "output_type": "display_data"
    },
    {
     "data": {
      "text/plain": [
       "<Figure size 640x480 with 1 Axes>"
      ]
     },
     "metadata": {},
     "output_type": "display_data"
    },
    {
     "data": {
      "text/plain": [
       "<Figure size 640x480 with 1 Axes>"
      ]
     },
     "metadata": {},
     "output_type": "display_data"
    },
    {
     "data": {
      "text/plain": [
       "<Figure size 640x480 with 1 Axes>"
      ]
     },
     "metadata": {},
     "output_type": "display_data"
    }
   ],
   "source": [
    "import matplotlib.pyplot as plt\n",
    "from scipy import stats\n",
    "import pandas as pd\n",
    "import numpy as np\n",
    "\n",
    "\n",
    "data1 = pd.read_csv('data-1.csv')\n",
    "data2 = pd.read_csv('data-2.csv')\n",
    "data3 = pd.read_csv('data-3.csv')\n",
    "data4 = pd.read_csv('data-4.csv')\n",
    "data5 = pd.read_csv('data-5.csv')\n",
    "data6 = pd.read_csv('data-6.csv')\n",
    "\n",
    "print('data1 mean of x:', data1['x'].mean(), 'y:', data1['y'].mean())\n",
    "print('data1 SD of x:', data1['x'].std(), 'y:', data1['y'].std())\n",
    "print('data1 min of x:', data1['x'].min(), 'y:', data1['y'].min())\n",
    "print('data1 max of x:', data1['x'].max(), 'y:', data1['y'].max())\n",
    "\n",
    "print('data2 mean of x:', data2['x'].mean(), 'y:', data2['y'].mean())\n",
    "print('data2 SD of x:',   data2['x'].std(),  'y:', data2['y'].std())\n",
    "print('data2 min of x:',  data2['x'].min(),  'y:', data2['y'].min())\n",
    "print('data2 max of x:',  data2['x'].max(),  'y:', data2['y'].max())\n",
    "\n",
    "print('data3 mean of x:', data3['x'].mean(), 'y:', data3['y'].mean())\n",
    "print('data3 SD of x:',   data3['x'].std(),  'y:', data3['y'].std())\n",
    "print('data3 min of x:',  data3['x'].min(),  'y:', data3['y'].min())\n",
    "print('data3 max of x:',  data3['x'].max(),  'y:', data3['y'].max())\n",
    "\n",
    "print('data4 mean of x:', data4['x'].mean(), 'y:', data4['y'].mean())\n",
    "print('data4 SD of x:',   data4['x'].std(),  'y:', data4['y'].std())\n",
    "print('data4 min of x:',  data4['x'].min(),  'y:', data4['y'].min())\n",
    "print('data4 max of x:',  data4['x'].max(),  'y:', data4['y'].max())\n",
    "\n",
    "print('data5 mean of x:', data5['x'].mean(), 'y:', data5['y'].mean())\n",
    "print('data5 SD of x:',   data5['x'].std(),  'y:', data5['y'].std())\n",
    "print('data5 min of x:',  data5['x'].min(),  'y:', data5['y'].min())\n",
    "print('data5 max of x:',  data5['x'].max(),  'y:', data5['y'].max())\n",
    "\n",
    "print('data6 mean of x:', data6['x'].mean(), 'y:', data6['y'].mean())\n",
    "print('data6 SD of x:',   data6['x'].std(),  'y:', data6['y'].std())\n",
    "print('data6 min of x:',  data6['x'].min(),  'y:', data6['y'].min())\n",
    "print('data6 max of x:',  data6['x'].max(),  'y:', data6['y'].max())\n",
    "\n",
    "\n",
    "print('The correlation of data1:',stats.linregress(data1['x'], data1['y']).rvalue)\n",
    "print('The correlation of data2:',stats.linregress(data2['x'], data2['y']).rvalue)\n",
    "print('The correlation of data3:',stats.linregress(data3['x'], data3['y']).rvalue)\n",
    "print('The correlation of data4:',stats.linregress(data4['x'], data4['y']).rvalue)\n",
    "print('The correlation of data5:',stats.linregress(data5['x'], data5['y']).rvalue)\n",
    "print('The correlation of data6:',stats.linregress(data6['x'], data6['y']).rvalue)\n",
    "\t\t# https://docs.scipy.org/doc/scipy-0.16.1/reference/generated/scipy.stats.linregress.html\n",
    "\n",
    "plt.plot(data1['x'], data1['y'], 'b.')\n",
    "plt.show()\n",
    "plt.plot(data2['x'], data2['y'], 'b.')\n",
    "plt.show()\n",
    "plt.plot(data3['x'], data3['y'], 'b.')\n",
    "plt.show()\n",
    "plt.plot(data4['x'], data4['y'], 'b.')\n",
    "plt.show()\n",
    "plt.plot(data5['x'], data5['y'], 'b.')\n",
    "plt.show()\n",
    "plt.plot(data6['x'], data6['y'], 'b.')\n",
    "plt.show()\n",
    "\n",
    "\n",
    "\n",
    "\n",
    "\n",
    "\n",
    "\n"
   ]
  }
 ],
 "metadata": {
  "kernelspec": {
   "display_name": "Python 3",
   "language": "python",
   "name": "python3"
  },
  "language_info": {
   "codemirror_mode": {
    "name": "ipython",
    "version": 3
   },
   "file_extension": ".py",
   "mimetype": "text/x-python",
   "name": "python",
   "nbconvert_exporter": "python",
   "pygments_lexer": "ipython3",
   "version": "3.7.3"
  }
 },
 "nbformat": 4,
 "nbformat_minor": 2
}

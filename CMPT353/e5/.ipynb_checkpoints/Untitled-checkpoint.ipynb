{
 "cells": [
  {
   "cell_type": "code",
   "execution_count": 1,
   "metadata": {},
   "outputs": [],
   "source": [
    "from pandas.plotting import register_matplotlib_converters\n",
    "register_matplotlib_converters()\n",
    "import matplotlib.pyplot as plt\n",
    "import datetime as dt\n",
    "import pandas as pd\n",
    "from scipy import stats\n",
    "import numpy as np\n",
    "import sys\n",
    "\n",
    "def weeknum(d):\n",
    "\treturn d.weekday()\n",
    "\n",
    "def isocalendar(d):\n",
    "\treturn d.isocalendar()"
   ]
  },
  {
   "cell_type": "code",
   "execution_count": 2,
   "metadata": {},
   "outputs": [],
   "source": [
    "OUTPUT_TEMPLATE = (\n",
    "    \"Initial (invalid) T-test p-value: {initial_ttest_p:.3g}\\n\"\n",
    "    \"Original data normality p-values: {initial_weekday_normality_p:.3g} {initial_weekend_normality_p:.3g}\\n\"\n",
    "    \"Original data equal-variance p-value: {initial_levene_p:.3g}\\n\"\n",
    "    \"Transformed data normality p-values: {transformed_weekday_normality_p:.3g} {transformed_weekend_normality_p:.3g}\\n\"\n",
    "    \"Transformed data equal-variance p-value: {transformed_levene_p:.3g}\\n\"\n",
    "    \"Weekly data normality p-values: {weekly_weekday_normality_p:.3g} {weekly_weekend_normality_p:.3g}\\n\"\n",
    "    \"Weekly data equal-variance p-value: {weekly_levene_p:.3g}\\n\"\n",
    "    \"Weekly T-test p-value: {weekly_ttest_p:.3g}\\n\"\n",
    "    \"Mann–Whitney U-test p-value: {utest_p:.3g}\"\n",
    ")\n"
   ]
  },
  {
   "cell_type": "code",
   "execution_count": 3,
   "metadata": {},
   "outputs": [],
   "source": [
    "counts = pd.read_json('reddit-counts.json.gz', lines=True)\n",
    "counts = counts[counts['subreddit'] == 'canada']\n",
    "counts['week_num'] = counts['date'].apply(weeknum)"
   ]
  },
  {
   "cell_type": "code",
   "execution_count": 4,
   "metadata": {},
   "outputs": [],
   "source": [
    "data_2012 = counts[counts['date'].dt.year == 2012]\n",
    "data_2013 = counts[counts['date'].dt.year == 2013]\n",
    "counts = pd.concat([data_2012, data_2013], axis = 0, ignore_index = True)\n",
    "    #https://jingyan.baidu.com/article/91f5db1b79205a1c7f05e3ae.html"
   ]
  },
  {
   "cell_type": "code",
   "execution_count": 5,
   "metadata": {},
   "outputs": [],
   "source": [
    "data_Sat = counts[counts['week_num'] == 5]\n",
    "data_Sun = counts[counts['week_num'] == 6]"
   ]
  },
  {
   "cell_type": "code",
   "execution_count": 6,
   "metadata": {},
   "outputs": [],
   "source": [
    "data_weekend = pd.concat([data_Sat, data_Sun], axis=0, ignore_index=True)\n",
    "    #https://jingyan.baidu.com/article/91f5db1b79205a1c7f05e3ae.html"
   ]
  },
  {
   "cell_type": "code",
   "execution_count": 7,
   "metadata": {},
   "outputs": [],
   "source": [
    "data_weekday = counts[counts['week_num'] != 5]\n",
    "data_weekday = data_weekday[data_weekday['week_num'] != 6]"
   ]
  },
  {
   "cell_type": "code",
   "execution_count": 8,
   "metadata": {},
   "outputs": [],
   "source": [
    "initial_Ttest = stats.ttest_ind(data_weekend['comment_count'], data_weekday['comment_count']).pvalue"
   ]
  },
  {
   "cell_type": "code",
   "execution_count": 9,
   "metadata": {},
   "outputs": [],
   "source": [
    "normality_pvalue_weekday = stats.normaltest(data_weekday['comment_count']).pvalue\n",
    "normality_pvalue_weekend = stats.normaltest(data_weekend['comment_count']).pvalue"
   ]
  },
  {
   "cell_type": "code",
   "execution_count": 10,
   "metadata": {},
   "outputs": [],
   "source": [
    "levene_pvalue= stats.levene(data_weekend['comment_count'], data_weekday['comment_count']).pvalue"
   ]
  },
  {
   "cell_type": "code",
   "execution_count": 13,
   "metadata": {},
   "outputs": [
    {
     "name": "stdout",
     "output_type": "stream",
     "text": [
      "log:::\n",
      "0.3149388682066669\n",
      "0.0004015914200681448\n",
      "0.0004190759393372205\n"
     ]
    }
   ],
   "source": [
    "print(\"log:::\")\n",
    "data_weekend['log'] = data_weekend['comment_count'].apply(np.log)\n",
    "data_weekday['log'] = data_weekday['comment_count'].apply(np.log)\n",
    "print(stats.normaltest(data_weekend['log']).pvalue) #good\n",
    "print(stats.normaltest(data_weekday['log']).pvalue) #bad\n",
    "print(stats.levene(data_weekend['log'], data_weekday['log']).pvalue) #bad"
   ]
  },
  {
   "cell_type": "code",
   "execution_count": 16,
   "metadata": {},
   "outputs": [
    {
     "ename": "NameError",
     "evalue": "name 'weekend' is not defined",
     "output_type": "error",
     "traceback": [
      "\u001b[0;31m---------------------------------------------------------------------------\u001b[0m",
      "\u001b[0;31mNameError\u001b[0m                                 Traceback (most recent call last)",
      "\u001b[0;32m<ipython-input-16-dc5bb36d97dc>\u001b[0m in \u001b[0;36m<module>\u001b[0;34m\u001b[0m\n\u001b[0;32m----> 1\u001b[0;31m \u001b[0mweekend\u001b[0m\u001b[0;34m[\u001b[0m\u001b[0;34m'root'\u001b[0m\u001b[0;34m]\u001b[0m \u001b[0;34m=\u001b[0m \u001b[0mweekend\u001b[0m\u001b[0;34m[\u001b[0m\u001b[0;34m'comment_count'\u001b[0m\u001b[0;34m]\u001b[0m\u001b[0;34m.\u001b[0m\u001b[0mapply\u001b[0m\u001b[0;34m(\u001b[0m\u001b[0mnp\u001b[0m\u001b[0;34m.\u001b[0m\u001b[0msqrt\u001b[0m\u001b[0;34m)\u001b[0m \u001b[0;31m#good\u001b[0m\u001b[0;34m\u001b[0m\u001b[0;34m\u001b[0m\u001b[0m\n\u001b[0m\u001b[1;32m      2\u001b[0m \u001b[0mweekday\u001b[0m\u001b[0;34m[\u001b[0m\u001b[0;34m'root'\u001b[0m\u001b[0;34m]\u001b[0m \u001b[0;34m=\u001b[0m \u001b[0mweekday\u001b[0m\u001b[0;34m[\u001b[0m\u001b[0;34m'comment_count'\u001b[0m\u001b[0;34m]\u001b[0m\u001b[0;34m.\u001b[0m\u001b[0mapply\u001b[0m\u001b[0;34m(\u001b[0m\u001b[0mnp\u001b[0m\u001b[0;34m.\u001b[0m\u001b[0msqrt\u001b[0m\u001b[0;34m)\u001b[0m \u001b[0;31m#bad\u001b[0m\u001b[0;34m\u001b[0m\u001b[0;34m\u001b[0m\u001b[0m\n\u001b[1;32m      3\u001b[0m \u001b[0mout5\u001b[0m \u001b[0;34m=\u001b[0m \u001b[0mstats\u001b[0m\u001b[0;34m.\u001b[0m\u001b[0mnormaltest\u001b[0m\u001b[0;34m(\u001b[0m\u001b[0mweekday\u001b[0m\u001b[0;34m[\u001b[0m\u001b[0;34m'root'\u001b[0m\u001b[0;34m]\u001b[0m\u001b[0;34m)\u001b[0m\u001b[0;34m.\u001b[0m\u001b[0mpvalue\u001b[0m\u001b[0;34m\u001b[0m\u001b[0;34m\u001b[0m\u001b[0m\n\u001b[1;32m      4\u001b[0m \u001b[0mout6\u001b[0m \u001b[0;34m=\u001b[0m \u001b[0mstats\u001b[0m\u001b[0;34m.\u001b[0m\u001b[0mnormaltest\u001b[0m\u001b[0;34m(\u001b[0m\u001b[0mweekend\u001b[0m\u001b[0;34m[\u001b[0m\u001b[0;34m'root'\u001b[0m\u001b[0;34m]\u001b[0m\u001b[0;34m)\u001b[0m\u001b[0;34m.\u001b[0m\u001b[0mpvalue\u001b[0m\u001b[0;34m\u001b[0m\u001b[0;34m\u001b[0m\u001b[0m\n\u001b[1;32m      5\u001b[0m \u001b[0mout7\u001b[0m \u001b[0;34m=\u001b[0m \u001b[0mstats\u001b[0m\u001b[0;34m.\u001b[0m\u001b[0mlevene\u001b[0m\u001b[0;34m(\u001b[0m\u001b[0mweekend\u001b[0m\u001b[0;34m[\u001b[0m\u001b[0;34m'root'\u001b[0m\u001b[0;34m]\u001b[0m\u001b[0;34m,\u001b[0m \u001b[0mweekday\u001b[0m\u001b[0;34m[\u001b[0m\u001b[0;34m'root'\u001b[0m\u001b[0;34m]\u001b[0m\u001b[0;34m)\u001b[0m\u001b[0;34m.\u001b[0m\u001b[0mpvalue\u001b[0m \u001b[0;31m#good\u001b[0m\u001b[0;34m\u001b[0m\u001b[0;34m\u001b[0m\u001b[0m\n",
      "\u001b[0;31mNameError\u001b[0m: name 'weekend' is not defined"
     ]
    }
   ],
   "source": [
    "data_weekend['root'] = data_weekend['comment_count'].apply(np.sqrt) #good\n",
    "data_weekday['root'] = data_weekday['comment_count'].apply(np.sqrt) #bad\n",
    "out5 = stats.normaltest(data_weekday['root']).pvalue\n",
    "out6 = stats.normaltest(data_weekend['root']).pvalue \n",
    "out7 = stats.levene(data_weekend['root'], data_weekday['root']).pvalue #good\n",
    "\n",
    "del weekend['root']\n",
    "del weekday['root']"
   ]
  },
  {
   "cell_type": "code",
   "execution_count": null,
   "metadata": {},
   "outputs": [],
   "source": []
  }
 ],
 "metadata": {
  "kernelspec": {
   "display_name": "Python 3",
   "language": "python",
   "name": "python3"
  },
  "language_info": {
   "codemirror_mode": {
    "name": "ipython",
    "version": 3
   },
   "file_extension": ".py",
   "mimetype": "text/x-python",
   "name": "python",
   "nbconvert_exporter": "python",
   "pygments_lexer": "ipython3",
   "version": "3.7.3"
  }
 },
 "nbformat": 4,
 "nbformat_minor": 2
}

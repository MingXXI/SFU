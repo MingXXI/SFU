{
 "cells": [
  {
   "cell_type": "code",
   "execution_count": 1,
   "metadata": {},
   "outputs": [],
   "source": [
    "import sys\n",
    "import numpy as np\n",
    "import pandas as pd\n",
    "from scipy import stats\n",
    "\n",
    "OUTPUT_TEMPLATE = (\n",
    "    '\"Did more/less users use the search feature?\" p-value: {more_users_p:.3g}\\n'\n",
    "    '\"Did users search more/less?\" p-value: {more_searches_p:.3g}\\n'\n",
    "    '\"Did more/less instructors use the search feature?\" p-value: {more_instr_p:.3g}\\n'\n",
    "    '\"Did instructors search more/less?\" p-value: {more_instr_searches_p:.3g}'\n",
    ")"
   ]
  },
  {
   "cell_type": "code",
   "execution_count": 2,
   "metadata": {},
   "outputs": [],
   "source": [
    "data = pd.read_json(\"searches.json\", orient='records', lines=True)"
   ]
  },
  {
   "cell_type": "code",
   "execution_count": 3,
   "metadata": {},
   "outputs": [],
   "source": [
    "data_new = data[data['uid'] %2 ==1]\n",
    "data_old = data[data['uid'] %2 == 0]\n",
    "data_old_count = data_old.count(0)"
   ]
  },
  {
   "cell_type": "code",
   "execution_count": 4,
   "metadata": {},
   "outputs": [],
   "source": [
    "data_new_searched = data_new[data_new['search_count'] != 0]\n",
    "data_new_searched_count = data_new_searched.count(0)\n",
    "\n",
    "data_new_nosearched = data_new[data_new['search_count'] == 0]\n",
    "data_new_nosearched_count = data_new_nosearched.count(0)\n",
    "\n",
    "data_old_searched = data_old[data_old['search_count'] != 0]\n",
    "data_old_searched_count = data_old_searched.count(0)\n",
    "\n",
    "data_old_nosearched = data_old[data_old['search_count'] == 0]\n",
    "data_old_nosearched_count = data_old_nosearched.count(0)"
   ]
  },
  {
   "cell_type": "code",
   "execution_count": 5,
   "metadata": {},
   "outputs": [],
   "source": [
    "data_new_instr = data_new[data_new['is_instructor'] != 0]\n",
    "data_old_instr = data_old[data_old['is_instructor'] != 0]"
   ]
  },
  {
   "cell_type": "code",
   "execution_count": 6,
   "metadata": {},
   "outputs": [],
   "source": [
    "data_new_instr_searched = data_new_instr[data_new_instr['search_count'] != 0]\n",
    "data_old_instr_searched = data_old_instr[data_old_instr['search_count'] != 0]\n",
    "data_new_instr_nosearched = data_new_instr[data_new_instr['search_count'] == 0]\n",
    "data_old_instr_nosearched = data_old_instr[data_old_instr['search_count'] == 0]\n",
    "\n",
    "data_new_instr_searched_count =data_new_instr_searched.count(0)\n",
    "data_old_instr_searched_count = data_old_instr_searched.count(0)\n",
    "data_new_instr_nosearched_count =data_new_instr_nosearched.count(0)\n",
    "data_old_instr_nosearched_count = data_old_instr_nosearched.count(0)"
   ]
  },
  {
   "cell_type": "code",
   "execution_count": 7,
   "metadata": {},
   "outputs": [],
   "source": [
    "contingency_all = [[data_old_searched_count['uid'], data_old_nosearched_count['uid']],\n",
    "                       [data_new_searched_count['uid'], data_new_nosearched_count['uid']]]\n",
    "chi2, p1, dof, expected = stats.chi2_contingency(contingency_all)\n",
    "p2 = stats.mannwhitneyu(data_new['search_count'], data_old['search_count']).pvalue"
   ]
  },
  {
   "cell_type": "code",
   "execution_count": 8,
   "metadata": {},
   "outputs": [],
   "source": [
    "contingency_instr = [[data_old_instr_searched_count['uid'], data_old_instr_nosearched_count['uid']],\n",
    "                       [data_new_instr_searched_count['uid'], data_new_instr_nosearched_count['uid']]]\n",
    "chi2, p3, dof, expected = stats.chi2_contingency(contingency_instr)\n",
    "p4 = stats.mannwhitneyu(data_new_instr['search_count'], data_old_instr['search_count']).pvalue"
   ]
  },
  {
   "cell_type": "code",
   "execution_count": 9,
   "metadata": {},
   "outputs": [
    {
     "name": "stdout",
     "output_type": "stream",
     "text": [
      "\"Did more/less users use the search feature?\" p-value: 0.168\n",
      "\"Did users search more/less?\" p-value: 0.0706\n",
      "\"Did more/less instructors use the search feature?\" p-value: 0.052\n",
      "\"Did instructors search more/less?\" p-value: 0.0225\n"
     ]
    }
   ],
   "source": [
    "\n",
    "print(OUTPUT_TEMPLATE.format(\n",
    "        more_users_p=p1,\n",
    "        more_searches_p=p2,\n",
    "        more_instr_p=p3,\n",
    "        more_instr_searches_p=p4,\n",
    "    ))"
   ]
  },
  {
   "cell_type": "code",
   "execution_count": null,
   "metadata": {},
   "outputs": [],
   "source": []
  },
  {
   "cell_type": "code",
   "execution_count": null,
   "metadata": {},
   "outputs": [],
   "source": []
  }
 ],
 "metadata": {
  "kernelspec": {
   "display_name": "Python 3",
   "language": "python",
   "name": "python3"
  },
  "language_info": {
   "codemirror_mode": {
    "name": "ipython",
    "version": 3
   },
   "file_extension": ".py",
   "mimetype": "text/x-python",
   "name": "python",
   "nbconvert_exporter": "python",
   "pygments_lexer": "ipython3",
   "version": "3.7.3"
  }
 },
 "nbformat": 4,
 "nbformat_minor": 2
}
